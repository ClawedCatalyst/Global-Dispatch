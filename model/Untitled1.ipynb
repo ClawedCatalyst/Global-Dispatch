{
 "cells": [
  {
   "cell_type": "code",
   "execution_count": 2,
   "id": "d8a6cc32",
   "metadata": {},
   "outputs": [
    {
     "name": "stdout",
     "output_type": "stream",
     "text": [
      "Requirement already satisfied: pandas in /Users/suhailahmad/Documents/majorProject/snuHack/venv/lib/python3.10/site-packages (1.5.3)\n",
      "Requirement already satisfied: python-dateutil>=2.8.1 in /Users/suhailahmad/Documents/majorProject/snuHack/venv/lib/python3.10/site-packages (from pandas) (2.8.2)\n",
      "Requirement already satisfied: pytz>=2020.1 in /Users/suhailahmad/Documents/majorProject/snuHack/venv/lib/python3.10/site-packages (from pandas) (2022.7.1)\n",
      "Requirement already satisfied: numpy>=1.21.0 in /Users/suhailahmad/Documents/majorProject/snuHack/venv/lib/python3.10/site-packages (from pandas) (1.24.1)\n",
      "Requirement already satisfied: six>=1.5 in /Users/suhailahmad/Documents/majorProject/snuHack/venv/lib/python3.10/site-packages (from python-dateutil>=2.8.1->pandas) (1.16.0)\n",
      "Requirement already satisfied: numpy in /Users/suhailahmad/Documents/majorProject/snuHack/venv/lib/python3.10/site-packages (1.24.1)\n",
      "Requirement already satisfied: seaborn in /Users/suhailahmad/Documents/majorProject/snuHack/venv/lib/python3.10/site-packages (0.12.2)\n",
      "Requirement already satisfied: numpy!=1.24.0,>=1.17 in /Users/suhailahmad/Documents/majorProject/snuHack/venv/lib/python3.10/site-packages (from seaborn) (1.24.1)\n",
      "Requirement already satisfied: matplotlib!=3.6.1,>=3.1 in /Users/suhailahmad/Documents/majorProject/snuHack/venv/lib/python3.10/site-packages (from seaborn) (3.6.3)\n",
      "Requirement already satisfied: pandas>=0.25 in /Users/suhailahmad/Documents/majorProject/snuHack/venv/lib/python3.10/site-packages (from seaborn) (1.5.3)\n",
      "Requirement already satisfied: pillow>=6.2.0 in /Users/suhailahmad/Documents/majorProject/snuHack/venv/lib/python3.10/site-packages (from matplotlib!=3.6.1,>=3.1->seaborn) (9.4.0)\n",
      "Requirement already satisfied: pyparsing>=2.2.1 in /Users/suhailahmad/Documents/majorProject/snuHack/venv/lib/python3.10/site-packages (from matplotlib!=3.6.1,>=3.1->seaborn) (3.0.9)\n",
      "Requirement already satisfied: python-dateutil>=2.7 in /Users/suhailahmad/Documents/majorProject/snuHack/venv/lib/python3.10/site-packages (from matplotlib!=3.6.1,>=3.1->seaborn) (2.8.2)\n",
      "Requirement already satisfied: contourpy>=1.0.1 in /Users/suhailahmad/Documents/majorProject/snuHack/venv/lib/python3.10/site-packages (from matplotlib!=3.6.1,>=3.1->seaborn) (1.0.7)\n",
      "Requirement already satisfied: packaging>=20.0 in /Users/suhailahmad/Documents/majorProject/snuHack/venv/lib/python3.10/site-packages (from matplotlib!=3.6.1,>=3.1->seaborn) (23.0)\n",
      "Requirement already satisfied: cycler>=0.10 in /Users/suhailahmad/Documents/majorProject/snuHack/venv/lib/python3.10/site-packages (from matplotlib!=3.6.1,>=3.1->seaborn) (0.11.0)\n",
      "Requirement already satisfied: fonttools>=4.22.0 in /Users/suhailahmad/Documents/majorProject/snuHack/venv/lib/python3.10/site-packages (from matplotlib!=3.6.1,>=3.1->seaborn) (4.38.0)\n",
      "Requirement already satisfied: kiwisolver>=1.0.1 in /Users/suhailahmad/Documents/majorProject/snuHack/venv/lib/python3.10/site-packages (from matplotlib!=3.6.1,>=3.1->seaborn) (1.4.4)\n",
      "Requirement already satisfied: pytz>=2020.1 in /Users/suhailahmad/Documents/majorProject/snuHack/venv/lib/python3.10/site-packages (from pandas>=0.25->seaborn) (2022.7.1)\n",
      "Requirement already satisfied: six>=1.5 in /Users/suhailahmad/Documents/majorProject/snuHack/venv/lib/python3.10/site-packages (from python-dateutil>=2.7->matplotlib!=3.6.1,>=3.1->seaborn) (1.16.0)\n",
      "Requirement already satisfied: openpyxl in /Users/suhailahmad/Documents/majorProject/snuHack/venv/lib/python3.10/site-packages (3.0.10)\n",
      "Requirement already satisfied: et-xmlfile in /Users/suhailahmad/Documents/majorProject/snuHack/venv/lib/python3.10/site-packages (from openpyxl) (1.1.0)\n",
      "Requirement already satisfied: scikit-learn in /Users/suhailahmad/Documents/majorProject/snuHack/venv/lib/python3.10/site-packages (1.2.1)\n",
      "Requirement already satisfied: scipy in /Users/suhailahmad/Documents/majorProject/snuHack/venv/lib/python3.10/site-packages (1.10.0)\n",
      "Requirement already satisfied: matplotlib in /Users/suhailahmad/Documents/majorProject/snuHack/venv/lib/python3.10/site-packages (3.6.3)\n",
      "Requirement already satisfied: numpy>=1.17.3 in /Users/suhailahmad/Documents/majorProject/snuHack/venv/lib/python3.10/site-packages (from scikit-learn) (1.24.1)\n",
      "Requirement already satisfied: joblib>=1.1.1 in /Users/suhailahmad/Documents/majorProject/snuHack/venv/lib/python3.10/site-packages (from scikit-learn) (1.2.0)\n",
      "Requirement already satisfied: threadpoolctl>=2.0.0 in /Users/suhailahmad/Documents/majorProject/snuHack/venv/lib/python3.10/site-packages (from scikit-learn) (3.1.0)\n",
      "Requirement already satisfied: pyparsing>=2.2.1 in /Users/suhailahmad/Documents/majorProject/snuHack/venv/lib/python3.10/site-packages (from matplotlib) (3.0.9)\n",
      "Requirement already satisfied: python-dateutil>=2.7 in /Users/suhailahmad/Documents/majorProject/snuHack/venv/lib/python3.10/site-packages (from matplotlib) (2.8.2)\n",
      "Requirement already satisfied: cycler>=0.10 in /Users/suhailahmad/Documents/majorProject/snuHack/venv/lib/python3.10/site-packages (from matplotlib) (0.11.0)\n",
      "Requirement already satisfied: pillow>=6.2.0 in /Users/suhailahmad/Documents/majorProject/snuHack/venv/lib/python3.10/site-packages (from matplotlib) (9.4.0)\n",
      "Requirement already satisfied: packaging>=20.0 in /Users/suhailahmad/Documents/majorProject/snuHack/venv/lib/python3.10/site-packages (from matplotlib) (23.0)\n",
      "Requirement already satisfied: fonttools>=4.22.0 in /Users/suhailahmad/Documents/majorProject/snuHack/venv/lib/python3.10/site-packages (from matplotlib) (4.38.0)\n",
      "Requirement already satisfied: kiwisolver>=1.0.1 in /Users/suhailahmad/Documents/majorProject/snuHack/venv/lib/python3.10/site-packages (from matplotlib) (1.4.4)\n",
      "Requirement already satisfied: contourpy>=1.0.1 in /Users/suhailahmad/Documents/majorProject/snuHack/venv/lib/python3.10/site-packages (from matplotlib) (1.0.7)\n",
      "Requirement already satisfied: six>=1.5 in /Users/suhailahmad/Documents/majorProject/snuHack/venv/lib/python3.10/site-packages (from python-dateutil>=2.7->matplotlib) (1.16.0)\n"
     ]
    }
   ],
   "source": [
    "!pip install pandas\n",
    "!pip install numpy\n",
    "!pip install seaborn\n",
    "!pip install openpyxl\n",
    "!pip3 install -U scikit-learn scipy matplotlib"
   ]
  },
  {
   "cell_type": "code",
   "execution_count": null,
   "id": "246aae07",
   "metadata": {},
   "outputs": [],
   "source": []
  },
  {
   "cell_type": "code",
   "execution_count": null,
   "id": "93b09032",
   "metadata": {},
   "outputs": [],
   "source": []
  },
  {
   "cell_type": "code",
   "execution_count": 3,
   "id": "a468b643",
   "metadata": {},
   "outputs": [],
   "source": [
    "import pandas as pd \n",
    "import numpy as np\n",
    "import seaborn as sns\n",
    "import pickle\n",
    "import math\n",
    "import matplotlib.pyplot as plt\n",
    "\n",
    "import re\n"
   ]
  },
  {
   "cell_type": "code",
   "execution_count": 4,
   "id": "3a53a9b1",
   "metadata": {},
   "outputs": [
    {
     "data": {
      "text/html": [
       "<div>\n",
       "<style scoped>\n",
       "    .dataframe tbody tr th:only-of-type {\n",
       "        vertical-align: middle;\n",
       "    }\n",
       "\n",
       "    .dataframe tbody tr th {\n",
       "        vertical-align: top;\n",
       "    }\n",
       "\n",
       "    .dataframe thead th {\n",
       "        text-align: right;\n",
       "    }\n",
       "</style>\n",
       "<table border=\"1\" class=\"dataframe\">\n",
       "  <thead>\n",
       "    <tr style=\"text-align: right;\">\n",
       "      <th></th>\n",
       "      <th>Country</th>\n",
       "      <th>Commodity</th>\n",
       "      <th>Flow</th>\n",
       "      <th>Quantity</th>\n",
       "      <th>Category</th>\n",
       "      <th>Volume (m^3)</th>\n",
       "      <th>Distance from India (m)</th>\n",
       "      <th>Frieght Cost (USD)</th>\n",
       "    </tr>\n",
       "  </thead>\n",
       "  <tbody>\n",
       "    <tr>\n",
       "      <th>0</th>\n",
       "      <td>Albania</td>\n",
       "      <td>Poultry cuts &amp; offal, except livers, fresh or ...</td>\n",
       "      <td>Export</td>\n",
       "      <td>34</td>\n",
       "      <td>02_meat_and_edible_meat_offal</td>\n",
       "      <td>12</td>\n",
       "      <td>5940.830501</td>\n",
       "      <td>4840.697837</td>\n",
       "    </tr>\n",
       "    <tr>\n",
       "      <th>1</th>\n",
       "      <td>Albania</td>\n",
       "      <td>Poultry cuts &amp; offal, except livers, fresh or ...</td>\n",
       "      <td>Export</td>\n",
       "      <td>23</td>\n",
       "      <td>02_meat_and_edible_meat_offal</td>\n",
       "      <td>12</td>\n",
       "      <td>5940.830501</td>\n",
       "      <td>3069.710823</td>\n",
       "    </tr>\n",
       "    <tr>\n",
       "      <th>2</th>\n",
       "      <td>Albania</td>\n",
       "      <td>Swine meat, salted/dried/smoked not ham/should...</td>\n",
       "      <td>Export</td>\n",
       "      <td>11</td>\n",
       "      <td>02_meat_and_edible_meat_offal</td>\n",
       "      <td>12</td>\n",
       "      <td>5940.830501</td>\n",
       "      <td>1475.822511</td>\n",
       "    </tr>\n",
       "    <tr>\n",
       "      <th>3</th>\n",
       "      <td>Albania</td>\n",
       "      <td>Fowls, domestic, whole, frozen</td>\n",
       "      <td>Export</td>\n",
       "      <td>50</td>\n",
       "      <td>02_meat_and_edible_meat_offal</td>\n",
       "      <td>12</td>\n",
       "      <td>5940.830501</td>\n",
       "      <td>7083.948054</td>\n",
       "    </tr>\n",
       "    <tr>\n",
       "      <th>4</th>\n",
       "      <td>Albania</td>\n",
       "      <td>Meat and edible offal nes fresh, chilled or fr...</td>\n",
       "      <td>Export</td>\n",
       "      <td>71</td>\n",
       "      <td>02_meat_and_edible_meat_offal</td>\n",
       "      <td>12</td>\n",
       "      <td>5940.830501</td>\n",
       "      <td>9976.560176</td>\n",
       "    </tr>\n",
       "  </tbody>\n",
       "</table>\n",
       "</div>"
      ],
      "text/plain": [
       "   Country                                          Commodity    Flow  \\\n",
       "0  Albania  Poultry cuts & offal, except livers, fresh or ...  Export   \n",
       "1  Albania  Poultry cuts & offal, except livers, fresh or ...  Export   \n",
       "2  Albania  Swine meat, salted/dried/smoked not ham/should...  Export   \n",
       "3  Albania                     Fowls, domestic, whole, frozen  Export   \n",
       "4  Albania  Meat and edible offal nes fresh, chilled or fr...  Export   \n",
       "\n",
       "   Quantity                       Category  Volume (m^3)  \\\n",
       "0        34  02_meat_and_edible_meat_offal            12   \n",
       "1        23  02_meat_and_edible_meat_offal            12   \n",
       "2        11  02_meat_and_edible_meat_offal            12   \n",
       "3        50  02_meat_and_edible_meat_offal            12   \n",
       "4        71  02_meat_and_edible_meat_offal            12   \n",
       "\n",
       "   Distance from India (m)  Frieght Cost (USD)  \n",
       "0              5940.830501         4840.697837  \n",
       "1              5940.830501         3069.710823  \n",
       "2              5940.830501         1475.822511  \n",
       "3              5940.830501         7083.948054  \n",
       "4              5940.830501         9976.560176  "
      ]
     },
     "execution_count": 4,
     "metadata": {},
     "output_type": "execute_result"
    }
   ],
   "source": [
    "df = pd.read_excel('Dataset_Hackathon.xlsx')\n",
    "df.head()\n"
   ]
  },
  {
   "cell_type": "code",
   "execution_count": 5,
   "id": "388d9c9d",
   "metadata": {},
   "outputs": [
    {
     "data": {
      "text/plain": [
       "Index(['Country', 'Commodity', 'Flow', 'Quantity', 'Category', 'Volume (m^3)',\n",
       "       'Distance from India (m)', 'Frieght Cost (USD)'],\n",
       "      dtype='object')"
      ]
     },
     "execution_count": 5,
     "metadata": {},
     "output_type": "execute_result"
    }
   ],
   "source": [
    "df.columns"
   ]
  },
  {
   "cell_type": "code",
   "execution_count": 6,
   "id": "de1d6da9",
   "metadata": {},
   "outputs": [
    {
     "data": {
      "text/plain": [
       "166"
      ]
     },
     "execution_count": 6,
     "metadata": {},
     "output_type": "execute_result"
    }
   ],
   "source": [
    "len(df['Country'].value_counts())"
   ]
  },
  {
   "cell_type": "code",
   "execution_count": 7,
   "id": "fb27648f",
   "metadata": {},
   "outputs": [
    {
     "data": {
      "text/plain": [
       "426"
      ]
     },
     "execution_count": 7,
     "metadata": {},
     "output_type": "execute_result"
    }
   ],
   "source": [
    "len(df['Commodity'].value_counts())"
   ]
  },
  {
   "cell_type": "code",
   "execution_count": 8,
   "id": "c7a494c5",
   "metadata": {},
   "outputs": [
    {
     "data": {
      "text/plain": [
       "Export       72361\n",
       "Re-Export     9084\n",
       "Name: Flow, dtype: int64"
      ]
     },
     "execution_count": 8,
     "metadata": {},
     "output_type": "execute_result"
    }
   ],
   "source": [
    "df['Flow'].value_counts()"
   ]
  },
  {
   "cell_type": "code",
   "execution_count": 9,
   "id": "e440a369",
   "metadata": {},
   "outputs": [
    {
     "data": {
      "text/plain": [
       "09_coffee_tea_mate_and_spices                             12231\n",
       "07_edible_vegetables_and_certain_roots_and_tubers          9160\n",
       "03_fish_crustaceans_molluscs_aquatic_invertebrates_ne      8608\n",
       "08_edible_fruit_nuts_peel_of_citrus_fruit_melons           8030\n",
       "11_milling_products_malt_starches_inulin_wheat_glute       7908\n",
       "12_oil_seed_oleagic_fruits_grain_seed_fruit_etc_ne         7163\n",
       "04_dairy_products_eggs_honey_edible_animal_product_nes     7157\n",
       "02_meat_and_edible_meat_offal                              6912\n",
       "05_products_of_animal_origin_nes                           5223\n",
       "10_cereals                                                 5040\n",
       "06_live_trees_plants_bulbs_roots_cut_flowers_etc           4013\n",
       "Name: Category, dtype: int64"
      ]
     },
     "execution_count": 9,
     "metadata": {},
     "output_type": "execute_result"
    }
   ],
   "source": [
    "df['Category'].value_counts()"
   ]
  },
  {
   "cell_type": "code",
   "execution_count": 10,
   "id": "a92d0e85",
   "metadata": {},
   "outputs": [
    {
     "name": "stdout",
     "output_type": "stream",
     "text": [
      "<class 'pandas.core.frame.DataFrame'>\n",
      "RangeIndex: 81445 entries, 0 to 81444\n",
      "Data columns (total 8 columns):\n",
      " #   Column                   Non-Null Count  Dtype  \n",
      "---  ------                   --------------  -----  \n",
      " 0   Country                  81445 non-null  object \n",
      " 1   Commodity                81445 non-null  object \n",
      " 2   Flow                     81445 non-null  object \n",
      " 3   Quantity                 81445 non-null  int64  \n",
      " 4   Category                 81445 non-null  object \n",
      " 5   Volume (m^3)             81445 non-null  int64  \n",
      " 6   Distance from India (m)  81445 non-null  float64\n",
      " 7   Frieght Cost (USD)       81445 non-null  float64\n",
      "dtypes: float64(2), int64(2), object(4)\n",
      "memory usage: 5.0+ MB\n"
     ]
    }
   ],
   "source": [
    "df.info()"
   ]
  },
  {
   "cell_type": "code",
   "execution_count": 11,
   "id": "051a7268",
   "metadata": {},
   "outputs": [],
   "source": [
    "df = df.drop(['Commodity','Country','Flow','Category'], axis = 1)"
   ]
  },
  {
   "cell_type": "code",
   "execution_count": 12,
   "id": "9b48ba8e",
   "metadata": {},
   "outputs": [
    {
     "data": {
      "text/html": [
       "<div>\n",
       "<style scoped>\n",
       "    .dataframe tbody tr th:only-of-type {\n",
       "        vertical-align: middle;\n",
       "    }\n",
       "\n",
       "    .dataframe tbody tr th {\n",
       "        vertical-align: top;\n",
       "    }\n",
       "\n",
       "    .dataframe thead th {\n",
       "        text-align: right;\n",
       "    }\n",
       "</style>\n",
       "<table border=\"1\" class=\"dataframe\">\n",
       "  <thead>\n",
       "    <tr style=\"text-align: right;\">\n",
       "      <th></th>\n",
       "      <th>Quantity</th>\n",
       "      <th>Volume (m^3)</th>\n",
       "      <th>Distance from India (m)</th>\n",
       "      <th>Frieght Cost (USD)</th>\n",
       "    </tr>\n",
       "  </thead>\n",
       "  <tbody>\n",
       "    <tr>\n",
       "      <th>0</th>\n",
       "      <td>34</td>\n",
       "      <td>12</td>\n",
       "      <td>5940.830501</td>\n",
       "      <td>4840.697837</td>\n",
       "    </tr>\n",
       "    <tr>\n",
       "      <th>1</th>\n",
       "      <td>23</td>\n",
       "      <td>12</td>\n",
       "      <td>5940.830501</td>\n",
       "      <td>3069.710823</td>\n",
       "    </tr>\n",
       "    <tr>\n",
       "      <th>2</th>\n",
       "      <td>11</td>\n",
       "      <td>12</td>\n",
       "      <td>5940.830501</td>\n",
       "      <td>1475.822511</td>\n",
       "    </tr>\n",
       "    <tr>\n",
       "      <th>3</th>\n",
       "      <td>50</td>\n",
       "      <td>12</td>\n",
       "      <td>5940.830501</td>\n",
       "      <td>7083.948054</td>\n",
       "    </tr>\n",
       "    <tr>\n",
       "      <th>4</th>\n",
       "      <td>71</td>\n",
       "      <td>12</td>\n",
       "      <td>5940.830501</td>\n",
       "      <td>9976.560176</td>\n",
       "    </tr>\n",
       "  </tbody>\n",
       "</table>\n",
       "</div>"
      ],
      "text/plain": [
       "   Quantity  Volume (m^3)  Distance from India (m)  Frieght Cost (USD)\n",
       "0        34            12              5940.830501         4840.697837\n",
       "1        23            12              5940.830501         3069.710823\n",
       "2        11            12              5940.830501         1475.822511\n",
       "3        50            12              5940.830501         7083.948054\n",
       "4        71            12              5940.830501         9976.560176"
      ]
     },
     "execution_count": 12,
     "metadata": {},
     "output_type": "execute_result"
    }
   ],
   "source": [
    "df.head()"
   ]
  },
  {
   "cell_type": "code",
   "execution_count": 13,
   "id": "fa0af250",
   "metadata": {},
   "outputs": [
    {
     "data": {
      "image/png": "[encoded data removed]",
      "text/plain": [
       "<Figure size 1000x1000 with 3 Axes>"
      ]
     },
     "metadata": {},
     "output_type": "display_data"
    }
   ],
   "source": [
    "columns = df.drop(\"Frieght Cost (USD)\", axis=\"columns\").columns\n",
    "halfcol = math.ceil(len(columns)/2)\n",
    "fig = plt.figure(figsize=(10,10))\n",
    "\n",
    "for i in range(len(columns)):\n",
    "    plt.subplot(halfcol, halfcol, i+1)\n",
    "    column = columns[i]\n",
    "    plt.xlabel(column)\n",
    "    plt.ylabel(\"Frieght Cost (USD)\")\n",
    "    plt.scatter(df[column], df[\"Frieght Cost (USD)\"])\n",
    "\n",
    "fig.tight_layout()"
   ]
  },
  {
   "cell_type": "code",
   "execution_count": 14,
   "id": "7acd9fc3",
   "metadata": {},
   "outputs": [
    {
     "data": {
      "text/plain": [
       "Index(['Quantity', 'Volume (m^3)', 'Distance from India (m)',\n",
       "       'Frieght Cost (USD)'],\n",
       "      dtype='object')"
      ]
     },
     "execution_count": 14,
     "metadata": {},
     "output_type": "execute_result"
    }
   ],
   "source": [
    "df.columns"
   ]
  },
  {
   "cell_type": "code",
   "execution_count": 15,
   "id": "995cc574",
   "metadata": {},
   "outputs": [
    {
     "name": "stdout",
     "output_type": "stream",
     "text": [
      "<class 'pandas.core.frame.DataFrame'>\n",
      "RangeIndex: 81445 entries, 0 to 81444\n",
      "Data columns (total 4 columns):\n",
      " #   Column                   Non-Null Count  Dtype  \n",
      "---  ------                   --------------  -----  \n",
      " 0   Quantity                 81445 non-null  int64  \n",
      " 1   Volume (m^3)             81445 non-null  int64  \n",
      " 2   Distance from India (m)  81445 non-null  float64\n",
      " 3   Frieght Cost (USD)       81445 non-null  float64\n",
      "dtypes: float64(2), int64(2)\n",
      "memory usage: 2.5 MB\n"
     ]
    }
   ],
   "source": [
    "df.info()"
   ]
  },
  {
   "cell_type": "code",
   "execution_count": null,
   "id": "7f0010b2",
   "metadata": {},
   "outputs": [],
   "source": []
  },
  {
   "cell_type": "code",
   "execution_count": 16,
   "id": "288bbf92",
   "metadata": {},
   "outputs": [],
   "source": [
    "X = df[['Quantity','Volume (m^3)',\n",
    "       'Distance from India (m)', #'Frieght Cost (USD)'\n",
    "]]\n",
    "y = df['Frieght Cost (USD)']"
   ]
  },
  {
   "cell_type": "code",
   "execution_count": 17,
   "id": "c3394118",
   "metadata": {},
   "outputs": [],
   "source": [
    "from sklearn.model_selection import train_test_split\n",
    "X_train, X_test, y_train, y_test = train_test_split(\n",
    "    X, y, test_size=0.33, random_state=42)\n"
   ]
  },
  {
   "cell_type": "code",
   "execution_count": 18,
   "id": "3c6ebe68",
   "metadata": {},
   "outputs": [],
   "source": [
    "from xgboost import XGBRegressor\n",
    "model = XGBRegressor()\n",
    "\n",
    "\n",
    "# from sklearn.linear_model import LinearRegression\n",
    "# model = LinearRegression()\n"
   ]
  },
  {
   "cell_type": "code",
   "execution_count": 19,
   "id": "f2b20e26",
   "metadata": {},
   "outputs": [
    {
     "data": {
      "text/plain": [
       "0.9980948190752791"
      ]
     },
     "execution_count": 19,
     "metadata": {},
     "output_type": "execute_result"
    }
   ],
   "source": [
    "\n",
    "# y_transformed = lab.fit_transform(y_train)\n",
    "\n",
    "model.fit(X_train, y_train)\n",
    "model.score(X_test, y_test)\n",
    "\n",
    "\n"
   ]
  },
  {
   "cell_type": "code",
   "execution_count": 20,
   "id": "609fba77",
   "metadata": {},
   "outputs": [],
   "source": [
    "pickle.dump(model, open('modell.pkl','wb'))"
   ]
  },
  {
   "cell_type": "code",
   "execution_count": 21,
   "id": "3c885784",
   "metadata": {},
   "outputs": [],
   "source": [
    "from pickle import load\n",
    "filename = 'modell.pkl'\n",
    "loaded_model = load(open(filename, 'rb'))\n"
   ]
  },
  {
   "cell_type": "code",
   "execution_count": 22,
   "id": "819e3dbc",
   "metadata": {},
   "outputs": [
    {
     "data": {
      "text/plain": [
       "array([  305.54413,  1479.0326 ,  1000.81024, ...,   779.69476,\n",
       "         118.05307, 23490.416  ], dtype=float32)"
      ]
     },
     "execution_count": 22,
     "metadata": {},
     "output_type": "execute_result"
    }
   ],
   "source": [
    "\n",
    "prediction=loaded_model.predict(X_test)\n",
    "\n",
    "prediction\n",
    "\n",
    "\n"
   ]
  }
 ],
 "metadata": {
  "interpreter": {
   "hash": "f0eff1fbfeef73a653dc8dc57f93508f716913d98691c9510450eea782cd0111"
  },
  "kernelspec": {
   "display_name": "venv",
   "language": "python",
   "name": "python3"
  },
  "language_info": {
   "codemirror_mode": {
    "name": "ipython",
    "version": 3
   },
   "file_extension": ".py",
   "mimetype": "text/x-python",
   "name": "python",
   "nbconvert_exporter": "python",
   "pygments_lexer": "ipython3",
   "version": "3.10.6"
  }
 },
 "nbformat": 4,
 "nbformat_minor": 5
}
